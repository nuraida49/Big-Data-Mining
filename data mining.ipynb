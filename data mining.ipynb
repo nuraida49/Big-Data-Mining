{
  "nbformat": 4,
  "nbformat_minor": 0,
  "metadata": {
    "colab": {
      "name": "data project testing.ipynb",
      "provenance": []
    },
    "kernelspec": {
      "name": "python3",
      "display_name": "Python 3"
    },
    "language_info": {
      "name": "python"
    }
  },
  "cells": [
    {
      "cell_type": "code",
      "execution_count": null,
      "metadata": {
        "colab": {
          "base_uri": "https://localhost:8080/"
        },
        "id": "eJeWybGa46hY",
        "outputId": "9811574d-cee3-4839-9c54-a545530f6a03"
      },
      "outputs": [
        {
          "output_type": "stream",
          "name": "stdout",
          "text": [
            "\r0% [Working]\r            \rGet:1 http://security.ubuntu.com/ubuntu bionic-security InRelease [88.7 kB]\n",
            "\r0% [Waiting for headers] [1 InRelease 0 B/88.7 kB 0%] [Connected to cloud.r-pro\r                                                                               \rHit:2 http://archive.ubuntu.com/ubuntu bionic InRelease\n",
            "\r0% [1 InRelease 34.4 kB/88.7 kB 39%] [Connected to cloud.r-project.org (108.157\r                                                                               \rGet:3 https://developer.download.nvidia.com/compute/cuda/repos/ubuntu1804/x86_64  InRelease [1,581 B]\n",
            "Get:4 http://archive.ubuntu.com/ubuntu bionic-updates InRelease [88.7 kB]\n",
            "Get:5 https://cloud.r-project.org/bin/linux/ubuntu bionic-cran40/ InRelease [3,626 B]\n",
            "Ign:6 https://developer.download.nvidia.com/compute/machine-learning/repos/ubuntu1804/x86_64  InRelease\n",
            "Get:7 http://archive.ubuntu.com/ubuntu bionic-backports InRelease [74.6 kB]\n",
            "Hit:8 https://developer.download.nvidia.com/compute/machine-learning/repos/ubuntu1804/x86_64  Release\n",
            "Get:9 http://ppa.launchpad.net/c2d4u.team/c2d4u4.0+/ubuntu bionic InRelease [15.9 kB]\n",
            "Hit:10 http://ppa.launchpad.net/cran/libgit2/ubuntu bionic InRelease\n",
            "Get:11 https://developer.download.nvidia.com/compute/cuda/repos/ubuntu1804/x86_64  Packages [787 kB]\n",
            "Get:12 http://ppa.launchpad.net/deadsnakes/ppa/ubuntu bionic InRelease [15.9 kB]\n",
            "Get:13 http://ppa.launchpad.net/graphics-drivers/ppa/ubuntu bionic InRelease [21.3 kB]\n",
            "Get:14 http://security.ubuntu.com/ubuntu bionic-security/multiverse amd64 Packages [22.8 kB]\n",
            "Get:15 http://security.ubuntu.com/ubuntu bionic-security/restricted amd64 Packages [956 kB]\n",
            "Get:16 http://security.ubuntu.com/ubuntu bionic-security/main amd64 Packages [2,796 kB]\n",
            "Get:17 http://security.ubuntu.com/ubuntu bionic-security/universe amd64 Packages [1,507 kB]\n",
            "Get:18 http://archive.ubuntu.com/ubuntu bionic-updates/universe amd64 Packages [2,284 kB]\n",
            "Get:19 http://archive.ubuntu.com/ubuntu bionic-updates/main amd64 Packages [3,231 kB]\n",
            "Get:20 http://archive.ubuntu.com/ubuntu bionic-updates/restricted amd64 Packages [991 kB]\n",
            "Get:21 http://archive.ubuntu.com/ubuntu bionic-updates/multiverse amd64 Packages [29.8 kB]\n",
            "Get:23 http://ppa.launchpad.net/c2d4u.team/c2d4u4.0+/ubuntu bionic/main Sources [1,990 kB]\n",
            "Get:24 http://ppa.launchpad.net/c2d4u.team/c2d4u4.0+/ubuntu bionic/main amd64 Packages [1,021 kB]\n",
            "Get:25 http://ppa.launchpad.net/deadsnakes/ppa/ubuntu bionic/main amd64 Packages [45.3 kB]\n",
            "Get:26 http://ppa.launchpad.net/graphics-drivers/ppa/ubuntu bionic/main amd64 Packages [44.3 kB]\n",
            "Fetched 16.0 MB in 5s (3,497 kB/s)\n",
            "Reading package lists... Done\n",
            "\u001b[K     |████████████████████████████████| 281.4 MB 36 kB/s \n",
            "\u001b[K     |████████████████████████████████| 198 kB 67.1 MB/s \n",
            "\u001b[?25h  Building wheel for pyspark (setup.py) ... \u001b[?25l\u001b[?25hdone\n",
            "Looking in indexes: https://pypi.org/simple, https://us-python.pkg.dev/colab-wheels/public/simple/\n",
            "Collecting gdelt\n",
            "  Downloading gdelt-0.1.10.6.1-py2.py3-none-any.whl (773 kB)\n",
            "\u001b[K     |████████████████████████████████| 773 kB 4.8 MB/s \n",
            "\u001b[33mWARNING: Discarding https://files.pythonhosted.org/packages/65/f9/a3d5111c8f17334b1752c32aedaab0d01ab4324bf26417bd41890d5b25d0/gdelt-0.1.10.6.1-py2.py3-none-any.whl#sha256=e69467f944c9eeab1648244fb58e9c4b6e073a5a0d16c3cdf8f99c0c8c290f6a (from https://pypi.org/simple/gdelt/). Requested gdelt from https://files.pythonhosted.org/packages/65/f9/a3d5111c8f17334b1752c32aedaab0d01ab4324bf26417bd41890d5b25d0/gdelt-0.1.10.6.1-py2.py3-none-any.whl#sha256=e69467f944c9eeab1648244fb58e9c4b6e073a5a0d16c3cdf8f99c0c8c290f6a has inconsistent version: filename has '0.1.10.6.1', but metadata has '0.1.10.6'\u001b[0m\n",
            "\u001b[?25h  Downloading gdelt-0.1.10.6.1.tar.gz (982 kB)\n",
            "\u001b[K     |████████████████████████████████| 982 kB 45.4 MB/s \n",
            "\u001b[33mWARNING: Discarding https://files.pythonhosted.org/packages/95/1f/c62e819f54c7a9d6cc74ab1924972c59121cd042dbac54da5ead2da9612d/gdelt-0.1.10.6.1.tar.gz#sha256=3da32cb33a2d490f1441b41c71cc2e006cabb074c245db31e5960c7eb4973316 (from https://pypi.org/simple/gdelt/). Command errored out with exit status 1: python setup.py egg_info Check the logs for full command output.\u001b[0m\n",
            "\u001b[?25h  Downloading gdelt-0.1.10.5.3-py2.py3-none-any.whl (761 kB)\n",
            "\u001b[K     |████████████████████████████████| 761 kB 52.2 MB/s \n",
            "\u001b[?25hRequirement already satisfied: pandas>=0.20.3 in /usr/local/lib/python3.7/dist-packages (from gdelt) (1.3.5)\n",
            "Requirement already satisfied: python-dateutil in /usr/local/lib/python3.7/dist-packages (from gdelt) (2.8.2)\n",
            "Requirement already satisfied: numpy in /usr/local/lib/python3.7/dist-packages (from gdelt) (1.21.6)\n",
            "Requirement already satisfied: requests in /usr/local/lib/python3.7/dist-packages (from gdelt) (2.23.0)\n",
            "Requirement already satisfied: pytz>=2017.3 in /usr/local/lib/python3.7/dist-packages (from pandas>=0.20.3->gdelt) (2022.1)\n",
            "Requirement already satisfied: six>=1.5 in /usr/local/lib/python3.7/dist-packages (from python-dateutil->gdelt) (1.15.0)\n",
            "Requirement already satisfied: idna<3,>=2.5 in /usr/local/lib/python3.7/dist-packages (from requests->gdelt) (2.10)\n",
            "Requirement already satisfied: urllib3!=1.25.0,!=1.25.1,<1.26,>=1.21.1 in /usr/local/lib/python3.7/dist-packages (from requests->gdelt) (1.24.3)\n",
            "Requirement already satisfied: chardet<4,>=3.0.2 in /usr/local/lib/python3.7/dist-packages (from requests->gdelt) (3.0.4)\n",
            "Requirement already satisfied: certifi>=2017.4.17 in /usr/local/lib/python3.7/dist-packages (from requests->gdelt) (2022.5.18.1)\n",
            "Installing collected packages: gdelt\n",
            "Successfully installed gdelt-0.1.10.5.3\n",
            "Looking in indexes: https://pypi.org/simple, https://us-python.pkg.dev/colab-wheels/public/simple/\n",
            "Collecting newspaper3k\n",
            "  Downloading newspaper3k-0.2.8-py3-none-any.whl (211 kB)\n",
            "\u001b[K     |████████████████████████████████| 211 kB 5.1 MB/s \n",
            "\u001b[?25hRequirement already satisfied: Pillow>=3.3.0 in /usr/local/lib/python3.7/dist-packages (from newspaper3k) (7.1.2)\n",
            "Collecting tinysegmenter==0.3\n",
            "  Downloading tinysegmenter-0.3.tar.gz (16 kB)\n",
            "Collecting jieba3k>=0.35.1\n",
            "  Downloading jieba3k-0.35.1.zip (7.4 MB)\n",
            "\u001b[K     |████████████████████████████████| 7.4 MB 26.1 MB/s \n",
            "\u001b[?25hCollecting feedparser>=5.2.1\n",
            "  Downloading feedparser-6.0.10-py3-none-any.whl (81 kB)\n",
            "\u001b[K     |████████████████████████████████| 81 kB 9.4 MB/s \n",
            "\u001b[?25hRequirement already satisfied: PyYAML>=3.11 in /usr/local/lib/python3.7/dist-packages (from newspaper3k) (3.13)\n",
            "Requirement already satisfied: python-dateutil>=2.5.3 in /usr/local/lib/python3.7/dist-packages (from newspaper3k) (2.8.2)\n",
            "Requirement already satisfied: lxml>=3.6.0 in /usr/local/lib/python3.7/dist-packages (from newspaper3k) (4.2.6)\n",
            "Requirement already satisfied: beautifulsoup4>=4.4.1 in /usr/local/lib/python3.7/dist-packages (from newspaper3k) (4.6.3)\n",
            "Collecting feedfinder2>=0.0.4\n",
            "  Downloading feedfinder2-0.0.4.tar.gz (3.3 kB)\n",
            "Requirement already satisfied: nltk>=3.2.1 in /usr/local/lib/python3.7/dist-packages (from newspaper3k) (3.2.5)\n",
            "Collecting tldextract>=2.0.1\n",
            "  Downloading tldextract-3.3.0-py3-none-any.whl (93 kB)\n",
            "\u001b[K     |████████████████████████████████| 93 kB 1.9 MB/s \n",
            "\u001b[?25hRequirement already satisfied: requests>=2.10.0 in /usr/local/lib/python3.7/dist-packages (from newspaper3k) (2.23.0)\n",
            "Collecting cssselect>=0.9.2\n",
            "  Downloading cssselect-1.1.0-py2.py3-none-any.whl (16 kB)\n",
            "Requirement already satisfied: six in /usr/local/lib/python3.7/dist-packages (from feedfinder2>=0.0.4->newspaper3k) (1.15.0)\n",
            "Collecting sgmllib3k\n",
            "  Downloading sgmllib3k-1.0.0.tar.gz (5.8 kB)\n",
            "Requirement already satisfied: idna<3,>=2.5 in /usr/local/lib/python3.7/dist-packages (from requests>=2.10.0->newspaper3k) (2.10)\n",
            "Requirement already satisfied: urllib3!=1.25.0,!=1.25.1,<1.26,>=1.21.1 in /usr/local/lib/python3.7/dist-packages (from requests>=2.10.0->newspaper3k) (1.24.3)\n",
            "Requirement already satisfied: chardet<4,>=3.0.2 in /usr/local/lib/python3.7/dist-packages (from requests>=2.10.0->newspaper3k) (3.0.4)\n",
            "Requirement already satisfied: certifi>=2017.4.17 in /usr/local/lib/python3.7/dist-packages (from requests>=2.10.0->newspaper3k) (2022.5.18.1)\n",
            "Requirement already satisfied: filelock>=3.0.8 in /usr/local/lib/python3.7/dist-packages (from tldextract>=2.0.1->newspaper3k) (3.7.0)\n",
            "Collecting requests-file>=1.4\n",
            "  Downloading requests_file-1.5.1-py2.py3-none-any.whl (3.7 kB)\n",
            "Building wheels for collected packages: tinysegmenter, feedfinder2, jieba3k, sgmllib3k\n",
            "  Building wheel for tinysegmenter (setup.py) ... \u001b[?25l\u001b[?25hdone\n",
            "  Created wheel for tinysegmenter: filename=tinysegmenter-0.3-py3-none-any.whl size=13553 sha256=190dbf929a920c20051c7c9a2e5db6b1ef7542953a46b25690e76078feb6adab\n",
            "  Stored in directory: /root/.cache/pip/wheels/df/67/41/faca10fa501ca010be41b49d40360c2959e1c4f09bcbfa37fa\n",
            "  Building wheel for feedfinder2 (setup.py) ... \u001b[?25l\u001b[?25hdone\n",
            "  Created wheel for feedfinder2: filename=feedfinder2-0.0.4-py3-none-any.whl size=3357 sha256=5538f5fa45e442943d37d034aa6a45f828b3a89c160518900e4d72cc83c59af3\n",
            "  Stored in directory: /root/.cache/pip/wheels/7f/d4/8f/6e2ca54744c9d7292d88ddb8d42876bcdab5e6d84a21c10346\n",
            "  Building wheel for jieba3k (setup.py) ... \u001b[?25l\u001b[?25hdone\n",
            "  Created wheel for jieba3k: filename=jieba3k-0.35.1-py3-none-any.whl size=7398404 sha256=f44f8e4f7f0a4b25f89afcca347debf91f400f69ca865b0345f018b1bb229551\n",
            "  Stored in directory: /root/.cache/pip/wheels/4c/91/46/3c208287b726df325a5979574324878b679116e4baae1af3c3\n",
            "  Building wheel for sgmllib3k (setup.py) ... \u001b[?25l\u001b[?25hdone\n",
            "  Created wheel for sgmllib3k: filename=sgmllib3k-1.0.0-py3-none-any.whl size=6066 sha256=c1c28ac4cafa003efe2053f15d5af0bc412d8930ca54b0a12e29fde6aa996702\n",
            "  Stored in directory: /root/.cache/pip/wheels/73/ad/a4/0dff4a6ef231fc0dfa12ffbac2a36cebfdddfe059f50e019aa\n",
            "Successfully built tinysegmenter feedfinder2 jieba3k sgmllib3k\n",
            "Installing collected packages: sgmllib3k, requests-file, tldextract, tinysegmenter, jieba3k, feedparser, feedfinder2, cssselect, newspaper3k\n",
            "Successfully installed cssselect-1.1.0 feedfinder2-0.0.4 feedparser-6.0.10 jieba3k-0.35.1 newspaper3k-0.2.8 requests-file-1.5.1 sgmllib3k-1.0.0 tinysegmenter-0.3 tldextract-3.3.0\n"
          ]
        }
      ],
      "source": [
        " #library and code setup\n",
        "!apt-get update\n",
        "!apt-get install openjdk-8-jdk-headless -qq > /dev/null\n",
        "!pip install -q pyspark\n",
        "import pyspark, os\n",
        "from pyspark import SparkConf, SparkContext\n",
        "from pyspark.sql import *\n",
        "os.environ[\"PYSPARK_PYTHON\"]=\"python3\"\n",
        "os.environ[\"JAVA_HOME\"]=\"/usr/lib/jvm/java-8-openjdk-amd64/\"\n",
        "os.environ['PYTHONHASHSEED']=\"0\"\n",
        "\n",
        "\n",
        "try:\n",
        "  conf = SparkConf().setMaster(\"local[*]\").set(\"spark.executor.memory\", \"1g\").set(\"spark.executorEnv.PYTHONHASHSEED\",\"0\").set(\"spark.ui.port\", \"4050\")\n",
        "  sc = SparkContext(conf = conf)\n",
        "  spark = SparkSession.builder.getOrCreate()\n",
        "except ValueError:\n",
        "  #it's ok if the server is already started\n",
        "  pass\n",
        "\n",
        "def dbg(x):\n",
        "  \"\"\" A helper function to print debugging information on RDDs \"\"\"\n",
        "  if isinstance(x, pyspark.RDD):\n",
        "    print([(t[0], list(t[1]) if \n",
        "            isinstance(t[1], pyspark.resultiterable.ResultIterable) else t[1])\n",
        "           if isinstance(t, tuple) else t\n",
        "           for t in x.take(100)])\n",
        "  else:\n",
        "    print(x)\n",
        "\n",
        "!pip install gdelt\n",
        "!pip install newspaper3k"
      ]
    },
    {
      "cell_type": "markdown",
      "source": [
        "Downloading files from countries: MY, BX, ID, RP, SN and mapping the csv files to output the average tone of the first 10 days in each month, over 28 months period (Jan 1st 2020 to Apr 30th 2022)"
      ],
      "metadata": {
        "id": "UiE9NBzR_TpU"
      }
    },
    {
      "cell_type": "code",
      "source": [
        "sc = spark.sparkContext\n",
        "malaysia = spark.read.csv(\"average tone malaysia.csv\").rdd\n",
        "brunei = spark.read.csv(\"average tone brunei.csv\").rdd\n",
        "indonesia = spark.read.csv(\"average tone indonesia.csv\").rdd\n",
        "philippines = spark.read.csv(\"average tone philippines.csv\").rdd\n",
        "singapore = spark.read.csv(\"average tone singapore.csv\").rdd\n",
        "\n",
        "#28 months in total\n",
        "filtered_malaysia = malaysia.map(lambda x: x._c7).take(28)\n",
        "filtered_brunei = brunei.map(lambda x: x._c4).take(28)\n",
        "filtered_indonesia = indonesia.map(lambda x: x._c5).take(28)\n",
        "filtered_philippines = philippines.map(lambda x: x._c4).take(28)\n",
        "filtered_singapore = singapore.map(lambda x: x._c4).take(28)\n",
        "\n",
        "#changing lists of strings into lists of floats for algorithm processing\n",
        "for i in range(0, len(filtered_malaysia)):\n",
        "  filtered_malaysia[i] = float(filtered_malaysia[i])\n",
        "dbg(filtered_malaysia)\n",
        "\n",
        "for i in range(0, len(filtered_brunei)):\n",
        "  filtered_brunei[i] = float(filtered_brunei[i])\n",
        "dbg(filtered_brunei)\n",
        "\n",
        "for i in range(0, len(filtered_indonesia)):\n",
        "  filtered_indonesia[i] = float(filtered_indonesia[i])\n",
        "dbg(filtered_indonesia)\n",
        "\n",
        "for i in range(0, len(filtered_philippines)):\n",
        "  filtered_philippines[i] = float(filtered_philippines[i])\n",
        "dbg(filtered_philippines)\n",
        "\n",
        "for i in range(0, len(filtered_singapore)):\n",
        "  filtered_singapore[i] = float(filtered_singapore[i])\n",
        "dbg(filtered_singapore)\n"
      ],
      "metadata": {
        "colab": {
          "base_uri": "https://localhost:8080/"
        },
        "id": "CjBwM9mh8fkt",
        "outputId": "b94dd208-0dc5-4828-e67b-dd5b96d0c7de"
      },
      "execution_count": null,
      "outputs": [
        {
          "output_type": "stream",
          "name": "stdout",
          "text": [
            "[-3.16685, -2.94151, -3.32225, -2.74664, -2.41467, -2.18574, -2.08588, -2.35647, -2.09048, -2.11832, -1.65196, -1.4641, -1.86964, -1.2822, -0.98843, -1.42679, -1.88707, -1.73544, -1.73135, -1.66294, -1.02941, -0.65024, -0.88725, -1.18439, -1.58996, -1.18377, -0.88034, -1.07996]\n",
            "[0.0, 0.0, 0.0, 0.0, 0.0, 0.0, 0.0, -0.97494, -1.62551, -1.61417, -1.11755, -0.71116, -2.10023, -2.4443, -0.65877, -1.73374, -2.12699, -2.11373, -2.51565, -1.70778, -1.08792, -0.92118, -1.29163, -0.61947, -1.77112, -1.75934, -1.32687, -1.73568]\n",
            "[-1.22734, -2.90591, -2.93214, -2.66097, -2.22166, -2.17838, -1.97064, -1.86686, -1.74859, -1.38174, -0.83428, -0.9163, -0.67271, -1.41072, -0.30265, -0.18069, -0.53646, -0.83384, -1.20847, 0.02363, 0.35628, 0.44167, 1.04154, 0.22395, 0.73123, 0.1297, -0.18093, 1.1023]\n",
            "[-3.05997, -3.16181, -2.91577, -2.07499, -1.91022, -1.75077, -1.55073, -1.61603, -1.13294, -0.90573, -0.8019, -0.54975, -0.84588, -0.69704, -0.41545, -1.04626, -0.71525, -0.65145, -0.6834, -1.1361, -0.87334, -0.29649, -0.17228, -0.25442, -1.42332, -0.43354, -0.36785, -0.00743]\n",
            "[-2.35306, -3.05984, -3.01518, -2.47538, -2.33941, -1.77028, -1.68869, -1.79768, -1.51743, -1.34407, -1.09492, -0.63069, -1.53598, -0.88852, -0.48994, -0.90051, -1.45991, -1.23524, -1.48632, -1.42284, -0.84208, -0.71443, -0.60013, -0.55989, -1.48256, -1.21424, -0.81348, -0.96815]\n"
          ]
        }
      ]
    },
    {
      "cell_type": "markdown",
      "source": [
        "Cosine Similarity between two countries\n",
        "\n"
      ],
      "metadata": {
        "id": "dGtYdTb8BmVV"
      }
    },
    {
      "cell_type": "code",
      "source": [
        "import numpy as np\n",
        "\n",
        "def dot(list1, list2):\n",
        "  return (sum(a*b for a,b in zip(list1, list2)))\n",
        "\n",
        "def cosine_similarity(l1, l2):\n",
        "  return dot(l1,l2) / ((dot(l1,l1) **.5) * (dot(l2,l2) ** .5))\n",
        "\n",
        "dic = {\"MY\": filtered_malaysia, \"BX\": filtered_brunei, \"ID\": filtered_indonesia, \"RP\": filtered_philippines, \"SN\": filtered_singapore}\n",
        "result = []\n",
        "\n",
        "#\"MY\"\n",
        "test_countries = ['BX', 'ID', 'RP', 'SN']\n",
        "for i in range(0, len(test_countries)):\n",
        "  print(\"MY &\", test_countries[i], \":\", str(cosine_similarity(dic[\"MY\"], dic[(test_countries[i])])))\n",
        "  result.append((cosine_similarity(dic[\"MY\"], dic[(test_countries[i])]), \"MY & \" + test_countries[i]))\n",
        "\n",
        "#\"BX\"\n",
        "test_countries = ['ID', 'RP', 'SN']\n",
        "for i in range(0, len(test_countries)):\n",
        "  print(\"BX &\", test_countries[i], \":\", str(cosine_similarity(dic[\"BX\"], dic[(test_countries[i])])))\n",
        "  result.append((cosine_similarity(dic[\"BX\"], dic[(test_countries[i])]), \"BX & \" + test_countries[i]))\n",
        "\n",
        "\n",
        "#\"ID\"\n",
        "test_countries = ['RP', 'SN']\n",
        "for i in range(0, len(test_countries)):\n",
        "  print(\"ID &\", test_countries[i], \":\", str(cosine_similarity(dic[\"ID\"], dic[(test_countries[i])])))\n",
        "  result.append((cosine_similarity(dic[\"ID\"], dic[(test_countries[i])]), \"ID & \" + test_countries[i]))\n",
        "\n",
        "\n",
        "#\"RP\"\n",
        "print(\"RP & SN :\", str(cosine_similarity(dic[\"RP\"], dic[\"SN\"])))\n",
        "result.append((cosine_similarity(dic[\"RP\"], dic[(test_countries[i])]), \"RP & \" + test_countries[i]))\n",
        "\n",
        "\n",
        "print(sorted(result))"
      ],
      "metadata": {
        "colab": {
          "base_uri": "https://localhost:8080/"
        },
        "id": "RBlonjQKgh_1",
        "outputId": "26310f53-4184-45b5-d70c-aed7566a79fe"
      },
      "execution_count": null,
      "outputs": [
        {
          "output_type": "stream",
          "name": "stdout",
          "text": [
            "MY & BX : 0.6497956347496313\n",
            "MY & ID : 0.8035106935860322\n",
            "MY & RP : 0.9447765960643086\n",
            "MY & SN : 0.9861158258931872\n",
            "BX & ID : 0.2537815637327376\n",
            "BX & RP : 0.42856298510353924\n",
            "BX & SN : 0.6039167540395614\n",
            "ID & RP : 0.8406395896804716\n",
            "ID & SN : 0.8149268274632863\n",
            "RP & SN : 0.9608286414785763\n",
            "[(0.2537815637327376, 'BX & ID'), (0.42856298510353924, 'BX & RP'), (0.6039167540395614, 'BX & SN'), (0.6497956347496313, 'MY & BX'), (0.8035106935860322, 'MY & ID'), (0.8149268274632863, 'ID & SN'), (0.8406395896804716, 'ID & RP'), (0.9447765960643086, 'MY & RP'), (0.9608286414785763, 'RP & SN'), (0.9861158258931872, 'MY & SN')]\n"
          ]
        }
      ]
    }
  ]
}